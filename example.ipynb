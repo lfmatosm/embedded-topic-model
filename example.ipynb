{
  "nbformat": 4,
  "nbformat_minor": 0,
  "metadata": {
    "colab": {
      "name": "Copy of Embedded Topic Model.ipynb",
      "provenance": [],
      "collapsed_sections": []
    },
    "kernelspec": {
      "name": "python3",
      "display_name": "Python 3"
    },
    "language_info": {
      "name": "python"
    },
    "accelerator": "GPU"
  },
  "cells": [
    {
      "cell_type": "code",
      "metadata": {
        "id": "kTHll-QePRBV",
        "colab": {
          "base_uri": "https://localhost:8080/"
        },
        "outputId": "f9115c79-d11e-4bbc-f5b9-b8608ea8a50f"
      },
      "source": [
        "# %cd drive/MyDrive/LamBT/\n",
        "# !git clone https://github.com/bui-thanh-lam/embedded-topic-model.git\n",
        "# %cd embedded-topic-model\n",
        "%cd drive/MyDrive/LamBT/embedded-topic-model/\n",
        "!pip install -r requirements.txt -q\n",
        "!pip install datasets -q"
      ],
      "execution_count": 1,
      "outputs": [
        {
          "output_type": "stream",
          "name": "stdout",
          "text": [
            "/content/drive/MyDrive/LamBT/embedded-topic-model\n"
          ]
        }
      ]
    },
    {
      "cell_type": "code",
      "metadata": {
        "colab": {
          "base_uri": "https://localhost:8080/"
        },
        "id": "Tdi7rCJB0etu",
        "outputId": "b3df9360-2918-4fad-8133-422a354a5013"
      },
      "source": [
        "%%writefile example.py\n",
        "from datasets import load_dataset\n",
        "from embedded_topic_model.utils import preprocessing\n",
        "from embedded_topic_model.core.model import ProdEtm, Model\n",
        "from embedded_topic_model.core.trainer import Trainer\n",
        "\n",
        "\n",
        "# Load dataset from Huggingface's datasets\n",
        "dataset = load_dataset('ag_news', split='test')\n",
        "dataset = [d[\"text\"] for d in dataset]\n",
        "\n",
        "\n",
        "# Preprocessing the dataset\n",
        "vocabulary, train_dataset, test_dataset, = preprocessing.create_etm_datasets(\n",
        "    dataset, \n",
        "    min_df=0.01, \n",
        "    max_df=0.75, \n",
        "    train_size=0.85, \n",
        ")\n",
        "\n",
        "\n",
        "# Declare model architecture\n",
        "prodetm = ProdEtm(\n",
        "    len(vocabulary),\n",
        "    num_topics=50,\n",
        "    train_embeddings=True\n",
        ")\n",
        "# Declare a trainer to train/eval model\n",
        "topic_model = Trainer(\n",
        "    vocabulary,\n",
        "    prodetm,\n",
        "    debug_mode=True\n",
        ")\n",
        "\n",
        "topic_model.fit(train_dataset)"
      ],
      "execution_count": 16,
      "outputs": [
        {
          "output_type": "stream",
          "name": "stdout",
          "text": [
            "Overwriting example.py\n"
          ]
        }
      ]
    },
    {
      "cell_type": "code",
      "metadata": {
        "colab": {
          "base_uri": "https://localhost:8080/"
        },
        "id": "0hHHVUVP8DVF",
        "outputId": "025d3489-8b78-4535-b0cb-4b33bc62d547"
      },
      "source": [
        "!python example.py"
      ],
      "execution_count": 17,
      "outputs": [
        {
          "output_type": "stream",
          "name": "stdout",
          "text": [
            "Using custom data configuration default\n",
            "Reusing dataset ag_news (/root/.cache/huggingface/datasets/ag_news/default/0.0.0/bc2bcb40336ace1a0374767fc29bb0296cdaf8a6da7298436239c54d79180548)\n",
            "Topics before training: [['beat', 'meeting', 'deal', 'country', 'should', 'sports', 'target', 'if', 'had', 'south'], ['prices', 'profit', 'little', 'points', 'as', 'near', 'her', 'troops', 'air', 'bill'], ['announced', 'companies', 'sports', 'won', 'growth', 'most', 'against', 'long', 'led', 'rise'], ['al', 'for', 'being', 'to', 'president', 'economy', 'both', 'three', 'software', 'what'], ['again', 'still', 'agreed', '2004', 'national', 'might', 'her', 'may', 'set', 'system'], ['percent', 'he', 'agreement', 'day', 'union', 'region', '39', 'race', 'might', 'night'], ['last', 'his', 'rise', 'market', 'million', 'left', 'bill', 'billion', 'during', '2004'], ['jobs', 'sales', 'this', 'third', 'nuclear', '2004', 'first', 'home', 'air', 'street'], ['media', 'their', 'games', 'north', 'biggest', 'its', 'study', 'last', 'agency', 'market'], ['phone', 'products', 'who', 'free', 'presidential', 'agreement', 'as', '12', 'into', 'bill'], ['bill', 'foreign', 'gold', 'agency', 'research', 'that', 'home', 'right', 'announced', 'presidential'], ['global', 'left', 'off', 'states', 'report', 'killed', 'software', 'police', 'north', 'where'], ['ahead', 'old', 'so', 'record', 'products', 'commission', 'court', 'used', 'said', 'police'], ['world', '39', 'give', 'investor', 'left', 'killed', 'through', 'four', 'now', 'title'], ['giant', 'next', 'reported', 'are', 'target', 'region', 'network', 'time', 'only', 'as'], ['after', 'strong', 'minister', 'close', 'case', 'new', 'says', 'election', 'union', 'buy'], ['charges', 'are', 'commission', 'put', 'nearly', 'news', 'group', 'year', 'him', 'while'], ['half', 'have', 'lower', 'while', 'left', 'key', 'plans', 'low', 'it', 'least'], ['fourth', 'loss', 'winning', 'war', 'chief', 'against', 'troops', 'in', 'early', 'video'], ['rise', 'study', 'put', 'on', 'former', 'has', 'first', 'million', 'across', '25'], ['share', 'sales', 'close', 'after', 'south', 'ahead', 'charges', 'windows', 'products', 'being'], ['in', 'being', 'buy', 'past', 'player', 'jobs', 'could', 'only', 'used', 'half'], ['talks', 'software', 'union', 'so', 'head', 'deal', 'dollar', 'home', 'percent', 'jobs'], ['long', 'windows', 'title', 'key', 'business', 'public', 'round', 'rose', 'court', 'target'], ['southern', 'update', 'best', 'people', 'announced', 'head', 'hit', 'stock', 'public', 'still'], ['west', 'union', 'half', 'al', 'wall', 'over', 'according', 'fell', 'general', 'top'], ['across', 'line', 'systems', 'press', 'race', 'during', 'quote', 'states', 'move', 'been'], ['federal', 'market', 'deal', 'across', 'company', 'loss', 'software', 'home', 'days', 'say'], ['profit', 'no', 'end', 'music', 'demand', 'due', 'charges', 'win', 'update', 'who'], ['al', 'network', 'into', 'media', 'first', 'record', 'for', 'leader', 'took', 'long'], ['windows', 'players', 'based', 'officials', 'wins', 'long', 'four', 'around', 'nearly', 'latest'], ['biggest', 'study', 'is', 'state', 'next', 'government', 'search', 'can', 'including', 'men'], ['day', 'hit', 'executive', 'nations', '12', 'were', 'today', 'troops', 'country', 'only'], ['what', 'this', 'air', 'way', 'another', 'state', 'said', 'west', 'and', 'are'], ['around', 'economic', 'new', 'wall', 'attacks', 'can', 'out', 'record', '12', 'firm'], ['investor', 'over', 'championship', 'prices', 'low', 'first', 'agency', 'space', 'would', 'charges'], ['should', 'target', 'firm', 'off', 'agency', 'million', 'were', 'here', 'race', 'union'], ['news', 'who', 'red', 'help', 'victory', 'do', 'again', 'technology', 'charges', 'percent'], ['army', 'leader', 'open', 'years', 'home', 'again', 'will', 'points', 'start', 'music'], ['com', 'even', 'plan', 'oil', 'southern', 'they', 'earnings', 'people', 'shares', 'may'], ['first', 'oil', 'windows', 'even', 'few', '39', 'face', 'network', 'international', 'troops'], ['lower', 'killing', 'court', 'and', 'after', 'pay', 'third', 'four', 'public', 'wall'], ['reports', 'from', 'that', 'chief', 'billion', 'of', 'commission', 'red', 'which', 'end'], ['released', 'between', 'will', 'again', 'federal', 'under', 'country', 'even', 'called', 'quarter'], ['night', 'mobile', 'data', 'bill', 'year', 'say', 'open', 'go', 'bank', 'wireless'], ['foreign', 'for', 'days', 'be', 'fourth', 'head', 'media', 'had', 'won', 'earnings'], ['bill', 'over', 'software', 'technology', 'yesterday', 'now', 'lower', 'pay', 'under', 'search'], ['series', 'stock', 'most', 'agreed', 'has', 'from', 'would', 'mobile', 'next', 'beat'], ['com', 'biggest', 'is', 'prime', 'right', 'city', 'player', 'play', 'military', 'new'], ['bill', 'near', 'economy', 'left', 'here', 'buy', 'global', 'most', 'this', 'give']]\n",
            "Epoch 1 - Learning Rate: 0.005 - KL theta: 0.5 - Rec loss: 73.49 - NELBO: 73.99\n",
            "Epoch 2 - Learning Rate: 0.005 - KL theta: 2.88 - Rec loss: 64.52 - NELBO: 67.4\n",
            "Epoch 3 - Learning Rate: 0.005 - KL theta: 1.76 - Rec loss: 64.84 - NELBO: 66.6\n",
            "Epoch 4 - Learning Rate: 0.005 - KL theta: 2.19 - Rec loss: 63.62 - NELBO: 65.81\n",
            "Epoch 5 - Learning Rate: 0.005 - KL theta: 2.35 - Rec loss: 63.17 - NELBO: 65.52\n",
            "Epoch 6 - Learning Rate: 0.005 - KL theta: 2.17 - Rec loss: 63.26 - NELBO: 65.43\n",
            "Epoch 7 - Learning Rate: 0.005 - KL theta: 2.21 - Rec loss: 63.33 - NELBO: 65.54\n",
            "Epoch 8 - Learning Rate: 0.005 - KL theta: 2.23 - Rec loss: 63.13 - NELBO: 65.36\n",
            "Epoch 9 - Learning Rate: 0.005 - KL theta: 2.2 - Rec loss: 62.92 - NELBO: 65.12\n",
            "Epoch 10 - Learning Rate: 0.005 - KL theta: 2.14 - Rec loss: 62.9 - NELBO: 65.04\n",
            "Topics: [['second', 'million', 'beat', 'long', 'run', 'after', 'lead', 'like', 'record', 'to'], ['to', 'of', 'in', 'and', 'for', 'on', 'with', 'at', 'as', 'that'], ['to', 'and', 'for', 'of', 'in', 'at', 'on', 'be', 'after', 'it'], ['of', 'to', 'in', 'and', 'on', 'for', 'with', 'at', 'that', 'its'], ['39', 'quote', 'united', 'windows', 'west', 'cup', 'profile', 'wall', 'al', 'states'], ['for', 'to', 'of', 'on', 'and', 'in', 'is', 'has', 'said', 'that'], ['windows', 'quote', 'cup', 'profile', 'al', '39', 'united', 'commission', 'west', 'com'], ['on', 'in', 'leaders', 'to', 'last', 'all', 'network', 'second', 'at', 'over'], ['no', 'use', 'take', 'services', 'sports', 'strong', 'wireless', 'winning', 'free', 'region'], ['free', 'five', '10', 'ago', 'systems', 'who', 'windows', 'attacks', 'army', 'is'], ['of', 'than', 'in', 'to', 'on', 'as', 'from', 'and', 'after', 'for'], ['to', 'and', 'in', 'for', 'of', 'has', 'on', 'said', 'that', 'its'], ['for', 'on', 'between', 'be', 'what', 'is', 'said', 'war', 'its', 'to'], ['to', 'of', 'and', 'for', 'in', 'on', 'with', 'by', 'at', 'that'], ['windows', 'cup', 'wall', 'quote', 'profile', 'united', '39', 'street', 'al', 'red'], ['data', 'and', 'phone', 'southern', 'in', 'what', 'as', 'plans', 'least', 'to'], ['charges', 'commission', 'drug', 'nearly', 'wall', 'put', 'bill', 'region', 'where', 'united'], ['quote', 'windows', '39', 'cup', 'wall', 'profile', 'united', 'street', 'investor', 'com'], ['to', 'of', 'in', 'and', 'on', 'for', 'with', 'at', 'as', 'that'], ['today', 'coach', 'man', 'online', 'if', 'take', 'study', 'due', 'update', 'as'], ['in', 'of', 'as', 'run', 'to', 'and', 'by', 'its', 'on', 'at'], ['to', 'of', 'in', 'and', 'for', 'on', 'that', 'at', 'as', 'with'], ['39', 'quote', 'windows', 'al', 'united', 'profile', 'west', 'com', 'cup', 'wall'], ['windows', 'target', 'street', 'quote', 'south', '39', 'nations', 'web', 'sports', 'league'], ['39', 'quote', 'commission', 'windows', 'wall', 'cup', 'com', 'lower', 'north', 'west'], ['quote', '39', 'wall', 'windows', 'united', 'cup', 'west', 'profile', 'al', 'com'], ['race', 'executive', 'took', 'deal', 'way', 'right', 'left', 'could', 'big', 'top'], ['quote', 'windows', 'al', '39', 'wall', 'united', 'profile', 'cup', 'commission', 'com'], ['in', 'to', 'and', 'on', 'of', 'from', 'for', 'as', 'by', 'its'], ['and', 'on', 'to', 'in', 'for', 'of', 'at', 'first', 'that', 'with'], ['in', 'to', 'of', 'from', 'at', 'on', 'for', 'and', 'with', 'its'], ['him', 'plan', 'wins', 'not', 'home', 'cup', 'al', 'rise', 'new', 'investor'], ['video', 'is', 'target', 'shares', 'for', 'most', 'there', 'says', 'two', 'of'], ['to', 'of', 'in', 'and', 'for', 'on', 'that', 'at', 'with', 'its'], ['to', 'in', 'as', 'of', 'and', 'over', 'on', 'from', 'at', 'has'], ['four', 'of', 'to', 'has', 'open', 'over', 'may', 'for', 'plans', 'its'], ['quote', '39', 'united', 'cup', 'windows', 'wall', 'profile', 'west', 'al', 'investor'], ['quote', 'profile', '39', 'windows', 'united', 'al', 'cup', 'red', 'west', 'wall'], ['profile', '39', 'united', 'quote', 'windows', 'al', 'cup', 'wall', 'investor', 'west'], ['profile', 'com', 'united', 'states', 'south', 'player', 'net', 'media', 'west', 'windows'], ['low', 'city', 'plan', 'nuclear', 'may', 'lower', 'was', 'close', 'he', 'time'], ['of', 'to', 'in', 'on', 'and', 'for', 'its', 'that', 'at', 'over'], ['least', 'five', 'low', 'so', 'union', 'business', 'quote', 'reports', 'due', 'can'], ['in', 'to', 'of', 'and', 'at', 'that', 'it', 'as', 'first', 'by'], ['to', 'and', 'of', 'has', 'that', 'on', 'for', 'is', 'in', 'who'], ['39', 'quote', 'windows', 'cup', 'wall', 'profile', 'west', 'united', 'al', 'com'], ['financial', 'plan', 'today', 'market', 'found', 'left', 'least', 'software', 'biggest', 'music'], ['windows', 'stock', '39', 'update', 'bank', 'west', 'per', 'old', 'cup', 'united'], ['quote', 'cup', '39', 'windows', 'profile', 'united', 'wall', 'com', 'west', 'street'], ['leaders', 'so', 'this', 'public', 'bill', 'called', 'case', '39', 'announced', 'chief']]\n",
            "Epoch 11 - Learning Rate: 0.005 - KL theta: 2.19 - Rec loss: 62.83 - NELBO: 65.02\n",
            "Epoch 12 - Learning Rate: 0.005 - KL theta: 2.19 - Rec loss: 62.48 - NELBO: 64.67\n",
            "Epoch 13 - Learning Rate: 0.005 - KL theta: 2.23 - Rec loss: 62.52 - NELBO: 64.75\n",
            "Epoch 14 - Learning Rate: 0.005 - KL theta: 2.2 - Rec loss: 62.15 - NELBO: 64.35\n",
            "Epoch 15 - Learning Rate: 0.005 - KL theta: 2.09 - Rec loss: 62.27 - NELBO: 64.36\n",
            "Epoch 16 - Learning Rate: 0.005 - KL theta: 2.09 - Rec loss: 61.88 - NELBO: 63.97\n",
            "Epoch 17 - Learning Rate: 0.005 - KL theta: 1.99 - Rec loss: 61.6 - NELBO: 63.59\n",
            "Epoch 18 - Learning Rate: 0.005 - KL theta: 1.94 - Rec loss: 61.57 - NELBO: 63.51\n",
            "Epoch 19 - Learning Rate: 0.005 - KL theta: 1.75 - Rec loss: 61.27 - NELBO: 63.02\n"
          ]
        }
      ]
    }
  ]
}